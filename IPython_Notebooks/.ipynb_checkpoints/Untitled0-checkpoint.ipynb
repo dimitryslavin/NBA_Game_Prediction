{
 "metadata": {
  "name": "",
  "signature": "sha256:8f14587aea1a2bbc14e819ca6399060a27a127bccdad5f2ad8d0ff8e27650a37"
 },
 "nbformat": 3,
 "nbformat_minor": 0,
 "worksheets": [
  {
   "cells": [
    {
     "cell_type": "code",
     "collapsed": false,
     "input": [
      "import numpy as np\n",
      "import pandas as pd\n",
      "import matplotlib.pyplot as plt\n",
      "%matplotlib inline\n",
      "from ggplot import *\n",
      "\n",
      "#Changing some IPython settings:\n",
      "pd.set_option('display.max_columns', 32)\n",
      "\n",
      "#Reading in the data:\n",
      "teams = pd.read_csv('teams.csv', index_col = [0])\n",
      "games = pd.read_csv('games.csv',index_col = False, parse_dates = [1])\n",
      "players = pd.read_csv('players.csv', index_col = False)\n",
      "gameStats = pd.read_csv('gameStats.csv', index_col = False, parse_dates = [2])\n",
      "\n",
      "games.index = games.game_id"
     ],
     "language": "python",
     "metadata": {},
     "outputs": []
    },
    {
     "cell_type": "code",
     "collapsed": false,
     "input": [
      "gameStats.head()"
     ],
     "language": "python",
     "metadata": {},
     "outputs": [
      {
       "ename": "NameError",
       "evalue": "name 'gameStats' is not defined",
       "output_type": "pyerr",
       "traceback": [
        "\u001b[0;31m---------------------------------------------------------------------------\u001b[0m\n\u001b[0;31mNameError\u001b[0m                                 Traceback (most recent call last)",
        "\u001b[0;32m<ipython-input-1-66a1807aade0>\u001b[0m in \u001b[0;36m<module>\u001b[0;34m()\u001b[0m\n\u001b[0;32m----> 1\u001b[0;31m \u001b[0mgameStats\u001b[0m\u001b[0;34m.\u001b[0m\u001b[0mhead\u001b[0m\u001b[0;34m(\u001b[0m\u001b[0;34m)\u001b[0m\u001b[0;34m\u001b[0m\u001b[0m\n\u001b[0m",
        "\u001b[0;31mNameError\u001b[0m: name 'gameStats' is not defined"
       ]
      }
     ],
     "prompt_number": 1
    },
    {
     "cell_type": "code",
     "collapsed": false,
     "input": [
      "ggplot(aes(x='quality',fill='uniGroup'),data=df) + \\\n",
      "    geom_histogram(alpha = 0.6) + \\\n",
      "    xlab('') + \\\n",
      "    ylab('') + \\\n",
      "    ggtitle('\\n')"
     ],
     "language": "python",
     "metadata": {},
     "outputs": []
    }
   ],
   "metadata": {}
  }
 ]
}