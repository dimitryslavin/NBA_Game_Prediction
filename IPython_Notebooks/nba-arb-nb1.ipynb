{
 "metadata": {
  "name": "",
  "signature": "sha256:507c5514c7c636ebcf7e0daa0f5ce66085304935870ecdc3bd23bd10f35b8c07"
 },
 "nbformat": 3,
 "nbformat_minor": 0,
 "worksheets": [
  {
   "cells": [
    {
     "cell_type": "code",
     "collapsed": false,
     "input": [
      "import copper\n",
      "import pandas as pd\n",
      "import requests\n",
      "from bs4 import BeautifulSoup\n",
      "\n",
      "#copper.project.path = 'Desktop/NBA-Arbitrage/'\n",
      "\n",
      "url = 'http://espn.go.com/nba/teams'\n",
      "r = requests.get(url)\n",
      "soup = BeautifulSoup(r.text)\n",
      "tables = soup.find_all('ul', class_='medium-logos')\n",
      "\n",
      "teams = []\n",
      "prefix_1 = []\n",
      "prefix_2 = []\n",
      "teams_urls = []\n",
      "\n",
      "for table in tables:\n",
      "    lis = table.find_all('li')\n",
      "    for li in lis:\n",
      "        info = li.h5.a\n",
      "        teams.append(info.text)\n",
      "        url = info['href']\n",
      "        teams_urls.append(url)\n",
      "        prefix_1.append(url.split('/')[-2])\n",
      "        prefix_2.append(url.split('/')[-1])\n",
      "        \n",
      "dic = {'url': teams_urls, 'prefix_2': prefix_2, 'prefix_1': prefix_1}\n",
      "teams = pd.DataFrame(dic, index=teams)\n",
      "\n"
     ],
     "language": "python",
     "metadata": {},
     "outputs": [],
     "prompt_number": 32
    },
    {
     "cell_type": "code",
     "collapsed": false,
     "input": [
      "teams.index.name = 'team'\n",
      "teams.to_csv(\"teams.csv\")"
     ],
     "language": "python",
     "metadata": {},
     "outputs": [],
     "prompt_number": 35
    },
    {
     "cell_type": "code",
     "collapsed": false,
     "input": [
      "import copper\n",
      "import numpy as np\n",
      "import pandas as pd\n",
      "import requests\n",
      "from bs4 import BeautifulSoup\n",
      "from datetime import datetime, date\n",
      "#copper.project.path = '../../'\n",
      "\n",
      "years = range(2005,2015)\n",
      "match_id = []\n",
      "dates = []\n",
      "home_team = []\n",
      "home_team_score = []\n",
      "visit_team = []\n",
      "visit_team_score = []\n",
      "season = []\n",
      "hi_points = []\n",
      "hi_points_pid = []\n",
      "hi_points_pname = []\n",
      "hi_rebs = []\n",
      "hi_rebs_pid = []\n",
      "hi_rebs_pname = []\n",
      "hi_asts = []\n",
      "hi_asts_pid = []\n",
      "hi_asts_pname = []\n",
      "\n",
      "for year in years:\n",
      "    teams = pd.read_csv('teams.csv')\n",
      "    BASE_URL = 'http://espn.go.com/nba/team/schedule/_/name/{0}/year/{1}/{2}'\n",
      "\n",
      "    for index, row in teams.iterrows():\n",
      "        _team, url = row['team'], row['url']\n",
      "        r = requests.get(BASE_URL.format(row['prefix_1'], year, row['prefix_2']))\n",
      "        table = BeautifulSoup(r.text).table\n",
      "        for row in table.find_all('tr')[1:]: # Remove header\n",
      "            columns = row.find_all('td')\n",
      "            try:\n",
      "                _home = True if columns[1].li.text == 'vs' else False\n",
      "                _other_team = columns[1].find_all('a')[1].text\n",
      "                _score = columns[2].a.text.split(' ')[0].split('-')\n",
      "                _won = True if columns[2].span.text == 'W' else False\n",
      "                _hipoints_player = columns[4].a['href'].split('id/')[-1].split('/')\n",
      "                _hirebs_player = columns[5].a['href'].split('id/')[-1].split('/')\n",
      "                _hiasts_player = columns[6].a['href'].split('id/')[-1].split('/')\n",
      "\n",
      "                match_id.append(columns[2].a['href'].split('?id=')[1])\n",
      "                home_team.append(_team if _home else _other_team)\n",
      "                visit_team.append(_team if not _home else _other_team)\n",
      "                d = datetime.strptime(columns[0].text, '%a, %b %d')\n",
      "                dates.append(date(year, d.month, d.day))\n",
      "                season.append(year)\n",
      "\n",
      "                hi_points.append(int(columns[4].text.split()[-1]))\n",
      "                hi_points_pid.append(int(_hipoints_player[0]))\n",
      "                hi_points_pname.append(_hipoints_player[-1])\n",
      "                hi_rebs.append(int(columns[5].text.split()[-1]))\n",
      "                hi_rebs_pid.append(int(_hirebs_player[0]))\n",
      "                hi_rebs_pname.append(_hirebs_player[-1])\n",
      "                hi_asts.append(int(columns[5].text.split()[-1]))\n",
      "                hi_asts_pid.append(int(_hiasts_player[0]))\n",
      "                hi_asts_pname.append(_hiasts_player[-1])\n",
      "\n",
      "                if _home:\n",
      "                    if _won:\n",
      "                        home_team_score.append(_score[0])\n",
      "                        visit_team_score.append(_score[1])\n",
      "                    else:\n",
      "                        home_team_score.append(_score[1])\n",
      "                        visit_team_score.append(_score[0])\n",
      "                else:\n",
      "                    if _won:\n",
      "                        home_team_score.append(_score[1])\n",
      "                        visit_team_score.append(_score[0])\n",
      "                    else:\n",
      "                        home_team_score.append(_score[0])\n",
      "                        visit_team_score.append(_score[1])\n",
      "            except Exception as e:\n",
      "                pass # Not all columns row are a match, is OK\n",
      "                # print(e)\n",
      "\n",
      "\n",
      "dic = {'id': match_id, 'date': dates, 'home_team': home_team, 'visit_team': visit_team,\n",
      "        'home_team_score': home_team_score, 'visit_team_score': visit_team_score, \n",
      "        'season': season, 'hi_points': hi_points, 'hi_points_pid': hi_points_pid,\n",
      "        'hi_points_pname':hi_points_pname, 'hi_rebs': hi_rebs, 'hi_rebs_pid': hi_rebs_pid,\n",
      "        'hi_rebs_pname': hi_rebs_pname, 'hi_asts': hi_asts, 'hi_asts_pid': hi_asts_pid, \n",
      "        'hi_asts_pname': hi_asts_pname}\n",
      "\n",
      "#games = pd.DataFrame(dic).drop_duplicates(cols='id').set_index('id')\n",
      "#print(games)\n",
      "#copper.save(games, 'games')"
     ],
     "language": "python",
     "metadata": {},
     "outputs": [],
     "prompt_number": 151
    },
    {
     "cell_type": "code",
     "collapsed": false,
     "input": [
      "l"
     ],
     "language": "python",
     "metadata": {},
     "outputs": [
      {
       "metadata": {},
       "output_type": "pyout",
       "prompt_number": 153,
       "text": [
        "[['home_team', 24118],\n",
        " ['hi_rebs_pname', 24070],\n",
        " ['hi_asts_pname', 24070],\n",
        " ['season', 24070],\n",
        " ['hi_asts_pid', 24070],\n",
        " ['hi_points_pid', 24070],\n",
        " ['hi_points', 24070],\n",
        " ['hi_rebs', 24070],\n",
        " ['hi_asts', 24070],\n",
        " ['visit_team', 24118],\n",
        " ['date', 24070],\n",
        " ['hi_points_pname', 24070],\n",
        " ['hi_rebs_pid', 24070],\n",
        " ['visit_team_score', 24070],\n",
        " ['id', 24118],\n",
        " ['home_team_score', 24070]]"
       ]
      }
     ],
     "prompt_number": 153
    },
    {
     "cell_type": "code",
     "collapsed": false,
     "input": [
      "l = []\n",
      "for i in range(0,len(dic.keys())):\n",
      "    boom = []\n",
      "    boom.append(dic.keys()[i])\n",
      "    boom.append(len(dic[dic.keys()[i]]))\n",
      "    l.append(boom)"
     ],
     "language": "python",
     "metadata": {},
     "outputs": [],
     "prompt_number": 152
    },
    {
     "cell_type": "code",
     "collapsed": false,
     "input": [
      "24118-24070"
     ],
     "language": "python",
     "metadata": {},
     "outputs": [
      {
       "metadata": {},
       "output_type": "pyout",
       "prompt_number": 155,
       "text": [
        "48"
       ]
      }
     ],
     "prompt_number": 155
    },
    {
     "cell_type": "code",
     "collapsed": false,
     "input": [],
     "language": "python",
     "metadata": {},
     "outputs": [
      {
       "metadata": {},
       "output_type": "pyout",
       "prompt_number": 75,
       "text": [
        "['home_team',\n",
        " 'visit_team',\n",
        " 'date',\n",
        " 'visit_team_score',\n",
        " 'id',\n",
        " 'home_team_score']"
       ]
      }
     ],
     "prompt_number": 75
    },
    {
     "cell_type": "code",
     "collapsed": false,
     "input": [
      "import csv\n",
      "\n",
      "with open('games_test.csv','wb') as outfile:\n",
      "    w = csv.writer(outfile)\n",
      "    w.writerow(dic.keys())\n",
      "    for i in range(0,len(dic.keys())):\n",
      "        game_row = []\n",
      "        game\n",
      "    w.writerows(zip(*dic.values()))"
     ],
     "language": "python",
     "metadata": {},
     "outputs": [
      {
       "ename": "TypeError",
       "evalue": "zip argument #2 must support iteration",
       "output_type": "pyerr",
       "traceback": [
        "\u001b[0;31m---------------------------------------------------------------------------\u001b[0m\n\u001b[0;31mTypeError\u001b[0m                                 Traceback (most recent call last)",
        "\u001b[0;32m<ipython-input-57-16fcc80e0b63>\u001b[0m in \u001b[0;36m<module>\u001b[0;34m()\u001b[0m\n\u001b[1;32m      4\u001b[0m     \u001b[0mw\u001b[0m \u001b[0;34m=\u001b[0m \u001b[0mcsv\u001b[0m\u001b[0;34m.\u001b[0m\u001b[0mwriter\u001b[0m\u001b[0;34m(\u001b[0m\u001b[0moutfile\u001b[0m\u001b[0;34m)\u001b[0m\u001b[0;34m\u001b[0m\u001b[0m\n\u001b[1;32m      5\u001b[0m     \u001b[0mw\u001b[0m\u001b[0;34m.\u001b[0m\u001b[0mwriterow\u001b[0m\u001b[0;34m(\u001b[0m\u001b[0mdic\u001b[0m\u001b[0;34m.\u001b[0m\u001b[0mkeys\u001b[0m\u001b[0;34m(\u001b[0m\u001b[0;34m)\u001b[0m\u001b[0;34m)\u001b[0m\u001b[0;34m\u001b[0m\u001b[0m\n\u001b[0;32m----> 6\u001b[0;31m     \u001b[0mw\u001b[0m\u001b[0;34m.\u001b[0m\u001b[0mwriterows\u001b[0m\u001b[0;34m(\u001b[0m\u001b[0mzip\u001b[0m\u001b[0;34m(\u001b[0m\u001b[0;34m*\u001b[0m\u001b[0mdic\u001b[0m\u001b[0;34m.\u001b[0m\u001b[0mvalues\u001b[0m\u001b[0;34m(\u001b[0m\u001b[0;34m)\u001b[0m\u001b[0;34m)\u001b[0m\u001b[0;34m)\u001b[0m\u001b[0;34m\u001b[0m\u001b[0m\n\u001b[0m",
        "\u001b[0;31mTypeError\u001b[0m: zip argument #2 must support iteration"
       ]
      }
     ],
     "prompt_number": 57
    },
    {
     "cell_type": "code",
     "collapsed": false,
     "input": [],
     "language": "python",
     "metadata": {},
     "outputs": []
    },
    {
     "cell_type": "code",
     "collapsed": false,
     "input": [
      "import copper\n",
      "import numpy as np\n",
      "import pandas as pd\n",
      "import requests\n",
      "from bs4 import BeautifulSoup\n",
      "from datetime import datetime, date\n",
      "#copper.project.path = '../../'\n",
      "\n",
      "year = 2005\n",
      "match_id = []\n",
      "dates = []\n",
      "home_team = []\n",
      "home_team_score = []\n",
      "visit_team = []\n",
      "visit_team_score = []\n",
      "season = []\n",
      "hi_points = []\n",
      "hi_points_pid = []\n",
      "hi_points_pname = []\n",
      "hi_rebs = []\n",
      "hi_asts = []\n",
      "\n",
      "BASE_URL = 'http://espn.go.com/nba/team/schedule/_/name/cha/year/2005/charlotte-hornets'\n",
      "r = requests.get(BASE_URL)\n",
      "table = BeautifulSoup(r.text).table\n",
      "\n"
     ],
     "language": "python",
     "metadata": {},
     "outputs": [],
     "prompt_number": 79
    },
    {
     "cell_type": "code",
     "collapsed": false,
     "input": [
      "firstRow = table.contents[2]\n",
      "firstRow"
     ],
     "language": "python",
     "metadata": {},
     "outputs": [
      {
       "metadata": {},
       "output_type": "pyout",
       "prompt_number": 93,
       "text": [
        "<tr class=\"oddrow team-46-27\"><td>Thu, Nov 4</td><td><ul class=\"game-schedule\"><li class=\"game-status\">vs</li><li class=\"team-logo-small logo-nba-small nba-small-27\"><a href=\"http://espn.go.com/nba/team/_/name/wsh/washington-wizards\"></a></li><li class=\"team-name\"><a href=\"http://espn.go.com/nba/team/_/name/wsh/washington-wizards\">Washington</a></li></ul></td><td><ul class=\"game-schedule\"><li class=\"game-status loss\"><span class=\"redfont\">L</span></li><li class=\"score\"><a href=\"/nba/recap?id=241104030\">103-96</a></li></ul></td><td>0-1</td><td colspan=\"1\"><a href=\"http://espn.go.com/nba/player/_/id/385/antawn-jamison\">A. Jamison</a> 24</td><td colspan=\"1\"><a href=\"http://espn.go.com/nba/player/_/id/2399/emeka-okafor\">E. Okafor</a> 10</td><td colspan=\"1\"><a href=\"http://espn.go.com/nba/player/_/id/974/gilbert-arenas\">G. Arenas</a> 8</td></tr>"
       ]
      }
     ],
     "prompt_number": 93
    },
    {
     "cell_type": "code",
     "collapsed": false,
     "input": [
      "column = firstRow.find_all('td')\n",
      "column"
     ],
     "language": "python",
     "metadata": {},
     "outputs": [
      {
       "metadata": {},
       "output_type": "pyout",
       "prompt_number": 94,
       "text": [
        "[<td>Thu, Nov 4</td>,\n",
        " <td><ul class=\"game-schedule\"><li class=\"game-status\">vs</li><li class=\"team-logo-small logo-nba-small nba-small-27\"><a href=\"http://espn.go.com/nba/team/_/name/wsh/washington-wizards\"></a></li><li class=\"team-name\"><a href=\"http://espn.go.com/nba/team/_/name/wsh/washington-wizards\">Washington</a></li></ul></td>,\n",
        " <td><ul class=\"game-schedule\"><li class=\"game-status loss\"><span class=\"redfont\">L</span></li><li class=\"score\"><a href=\"/nba/recap?id=241104030\">103-96</a></li></ul></td>,\n",
        " <td>0-1</td>,\n",
        " <td colspan=\"1\"><a href=\"http://espn.go.com/nba/player/_/id/385/antawn-jamison\">A. Jamison</a> 24</td>,\n",
        " <td colspan=\"1\"><a href=\"http://espn.go.com/nba/player/_/id/2399/emeka-okafor\">E. Okafor</a> 10</td>,\n",
        " <td colspan=\"1\"><a href=\"http://espn.go.com/nba/player/_/id/974/gilbert-arenas\">G. Arenas</a> 8</td>]"
       ]
      }
     ],
     "prompt_number": 94
    },
    {
     "cell_type": "code",
     "collapsed": false,
     "input": [
      "[int(s) for s in column[4].text.split() if s.isdigit()]"
     ],
     "language": "python",
     "metadata": {},
     "outputs": [
      {
       "metadata": {},
       "output_type": "pyout",
       "prompt_number": 106,
       "text": [
        "[24]"
       ]
      }
     ],
     "prompt_number": 106
    },
    {
     "cell_type": "code",
     "collapsed": false,
     "input": [
      "_hipoints_player = column[4].a['href'].split('id/')[-1].split('/')\n",
      "_hipoints_player"
     ],
     "language": "python",
     "metadata": {},
     "outputs": [
      {
       "metadata": {},
       "output_type": "pyout",
       "prompt_number": 121,
       "text": [
        "[u'385', u'antawn-jamison']"
       ]
      }
     ],
     "prompt_number": 121
    },
    {
     "cell_type": "code",
     "collapsed": false,
     "input": [
      "for row in table.find_all('tr')[1:]: # Remove header\n",
      "                columns = row.find_all('td')\n",
      "                try:\n",
      "                    _home = True if columns[1].li.text == 'vs' else False\n",
      "                    _other_team = columns[1].find_all('a')[1].text\n",
      "                    _score = columns[2].a.text.split(' ')[0].split('-')\n",
      "                    _won = True if columns[2].span.text == 'W' else False\n",
      "                    _hipoints_player = column[4].a['href'].split('id/')[-1].split('/')\n",
      "                    _hirebs_player = column[5].a['href'].split('id/')[-1].split('/')\n",
      "                    _hiasts_player = column[6].a['href'].split('id/')[-1].split('/')\n",
      "\n",
      "                    match_id.append(columns[2].a['href'].split('?id=')[1])\n",
      "                    home_team.append(_team if _home else _other_team)\n",
      "                    visit_team.append(_team if not _home else _other_team)\n",
      "                    d = datetime.strptime(columns[0].text, '%a, %b %d')\n",
      "                    dates.append(date(year, d.month, d.day))\n",
      "                    season.append(year)\n",
      "                    \n",
      "                    hi_points.append(int(column[4].text.split()[-1]))\n",
      "                    hi_points_pid = int(_hipoints_player[0])\n",
      "                    hi_points_pname = _hipoints_player[-1]\n",
      "                    hi_rebs.append(int(column[5].text.split()[-1]))\n",
      "                    hi_rebs_pid = int(_hirebs_player[0])\n",
      "                    hi_rebs_pname = _hirebs_player[-1]\n",
      "                    hi_asts.append(int(column[5].text.split()[-1]))\n",
      "                    hi_asts_pid = int(_hiasts_player[0])\n",
      "                    hi_asts_pname = _hiasts_player[-1]"
     ],
     "language": "python",
     "metadata": {},
     "outputs": []
    }
   ],
   "metadata": {}
  }
 ]
}