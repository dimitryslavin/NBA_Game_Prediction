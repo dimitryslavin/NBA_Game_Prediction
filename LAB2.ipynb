{
 "metadata": {
  "name": "",
  "signature": "sha256:c4ad92dbe80ab56fa6c1baa27e4233bcc351340bf68ea3b69c2049ba658613a0"
 },
 "nbformat": 3,
 "nbformat_minor": 0,
 "worksheets": [
  {
   "cells": [
    {
     "cell_type": "code",
     "collapsed": false,
     "input": [
      "ggplot(aes(x='boom'),data=boom) + \\\n",
      "    geom_density(alpha = 0.6) + \\\n",
      "    xlab('Points For') + \\\n",
      "    ylab('Density') + \\\n",
      "    ggtitle('\\n')\n",
      "    \n",
      "df = gameStats\n",
      "crit1 = df.h_or_a.map(lambda x: x == 'home')\n",
      "crit2 = df.season.map(lambda x: x in [2015])\n",
      "crit3 = df.team.map(lambda x: x in teams_to_compare)\n",
      "df[crit2 & crit3].boxplot(column='PTSF', by='team', grid=False, figsize = (10,6))"
     ],
     "language": "python",
     "metadata": {},
     "outputs": []
    },
    {
     "cell_type": "code",
     "collapsed": false,
     "input": [],
     "language": "python",
     "metadata": {},
     "outputs": []
    }
   ],
   "metadata": {}
  }
 ]
}